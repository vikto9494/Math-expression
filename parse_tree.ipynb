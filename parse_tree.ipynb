{
 "cells": [
  {
   "cell_type": "code",
   "execution_count": 2,
   "metadata": {
    "collapsed": true
   },
   "outputs": [],
   "source": [
    "import operator\n",
    "import random\n",
    "from pythonds.basic.stack import Stack\n",
    "from collections import deque\n",
    "import math"
   ]
  },
  {
   "cell_type": "code",
   "execution_count": 3,
   "metadata": {
    "collapsed": true
   },
   "outputs": [],
   "source": [
    "operation_type = ['O', 'F', 'V', 'C']\n",
    "name_opers = ['+', '-', '*', '/', '^']\n",
    "variance = ['x', 'y']\n",
    "opers = {'+': operator.add, '-': operator.sub, '*':operator.mul, '/': operator.truediv, '^': operator.pow}\n",
    "name_functions = ['sin', 'cos', 'tan', 'acos', 'asin', 'atan', 'exp', 'ln', 'sqrt']\n",
    "functions = {'sin': math.sin, 'cos': math.cos, 'tan': math.tan, 'acos': math.acos, 'asin': math.asin, \n",
    "             'atan': math.atan, 'exp': math.exp, 'ln': math.log, 'sqrt':math.sqrt}"
   ]
  },
  {
   "cell_type": "code",
   "execution_count": 4,
   "metadata": {
    "collapsed": true
   },
   "outputs": [],
   "source": [
    "def rand_type(weights = [40, 40, 10, 10]):\n",
    "    return random.choices(operation_type, weights)[0]"
   ]
  },
  {
   "cell_type": "code",
   "execution_count": 5,
   "metadata": {
    "collapsed": true
   },
   "outputs": [],
   "source": [
    "def rand_oper(weights = [40, 35, 15, 5, 5]):\n",
    "    return random.choices(name_opers, weights)[0]    "
   ]
  },
  {
   "cell_type": "code",
   "execution_count": 6,
   "metadata": {
    "collapsed": true
   },
   "outputs": [],
   "source": [
    "def rand_const(min = 1, max = 5):\n",
    "    return random.randint(min, max)"
   ]
  },
  {
   "cell_type": "code",
   "execution_count": 7,
   "metadata": {
    "collapsed": true
   },
   "outputs": [],
   "source": [
    "def rand_var(weights = [50, 50]):\n",
    "    return random.choices(variance, weights)[0] "
   ]
  },
  {
   "cell_type": "code",
   "execution_count": 8,
   "metadata": {
    "collapsed": true
   },
   "outputs": [],
   "source": [
    "def rand_func(weight = None):\n",
    "    return random.choices(name_functions)[0]    "
   ]
  },
  {
   "cell_type": "code",
   "execution_count": 9,
   "metadata": {
    "collapsed": true
   },
   "outputs": [],
   "source": [
    "def insert_right(self, new_node):\n",
    "    if self.right == None:\n",
    "        self.right = BinaryTree(new_node)\n",
    "    else:\n",
    "        tree = BinaryTree(new_node)\n",
    "        tree.right = self.right\n",
    "        self.right = tree\n",
    "\n",
    "def insert_left(self, new_node):\n",
    "    if self.left == None:\n",
    "        self.left = BinaryTree(new_node)\n",
    "    else:\n",
    "        tree = BinaryTree(new_node)\n",
    "        tree.left = self.left\n",
    "        self.left = tree"
   ]
  },
  {
   "cell_type": "code",
   "execution_count": 10,
   "metadata": {
    "collapsed": true
   },
   "outputs": [],
   "source": [
    "class Node(object):\n",
    "    def __init__(self, value, left = None, right = None):\n",
    "        self.value = value\n",
    "        self.left = left\n",
    "        self.right = right\n",
    "\n",
    "class BinaryTree():\n",
    "    def __init__(self, value):\n",
    "        self.parent = None\n",
    "        self.left = None\n",
    "        self.right = None\n",
    "        self.value = value\n",
    "        \n",
    "    def __str__(self):\n",
    "        return str(self.value)\n",
    "        \n",
    "    def get_left_child(self):\n",
    "        if self.left:\n",
    "            return self.left\n",
    "        \n",
    "    def get_right_child(self):\n",
    "        if self.right:\n",
    "            return self.right\n",
    "        \n",
    "    def set_left_child(self, tree):\n",
    "        if self.left == None:\n",
    "            self.left = tree\n",
    "        else:\n",
    "            tree.left = self.left\n",
    "            self.left = tree\n",
    "        \n",
    "    def set_right_child(self, tree):\n",
    "        if self.right == None:\n",
    "            self.right = tree\n",
    "        else:\n",
    "            tree.right = self.right\n",
    "            self.right = tree\n",
    "        \n",
    "    def set_node_value(self, value):\n",
    "        self.value = value\n",
    "        \n",
    "    def get_node_value(self):\n",
    "        return self.value\n",
    "\n",
    "    def insert_right(self, new_node):\n",
    "        if self.right == None:\n",
    "            self.right = BinaryTree(new_node)\n",
    "        else:\n",
    "            self.right.value = new_node\n",
    "\n",
    "\n",
    "    def insert_left(self, new_node):\n",
    "        if self.left == None:\n",
    "            self.left = BinaryTree(new_node)\n",
    "        else:\n",
    "            self.left.value = new_node\n",
    "            \n",
    "    def print_expression(self):\n",
    "        if self.value in name_opers:\n",
    "            print('(', end = '')\n",
    "            self.left.print_expression()\n",
    "            print(self.value, end = '')\n",
    "            self.right.print_expression()\n",
    "            print(')', end = '')\n",
    "        elif self.value in name_functions:\n",
    "            print(self.value + '(', end = '')\n",
    "            self.left.print_expression()\n",
    "            print(')', end = '')\n",
    "        elif self.value in variance:\n",
    "            print(self.value, end = '')\n",
    "        elif isinstance(self.value, int):\n",
    "            print(self.value, end = '')\n",
    "            \n",
    "    def print_tree(self, depth):\n",
    "        current_level = [self]\n",
    "        a = ' ' * (2 ** depth)\n",
    "        while depth:\n",
    "            a = a[:len(a)//2]\n",
    "            next_level = list()\n",
    "            for n in current_level:\n",
    "                print(a + str(n.value), end = '') if n != None else print(a, end = '')\n",
    "                if n == None or n.left == None:\n",
    "                    next_level.append(None)\n",
    "                else:\n",
    "                    next_level.append(n.left)\n",
    "                if n == None or n.right == None:\n",
    "                    next_level.append(None)\n",
    "                else:\n",
    "                    next_level.append(n.right)\n",
    "                current_level = next_level\n",
    "            depth -= 1\n",
    "            print(\"\\n\")\n"
   ]
  },
  {
   "cell_type": "code",
   "execution_count": 11,
   "metadata": {
    "collapsed": true
   },
   "outputs": [],
   "source": [
    "def generate_tree(depth):\n",
    "    if depth == 1:\n",
    "        if random.randint(0, 1):\n",
    "            return BinaryTree(rand_const()) \n",
    "        else:\n",
    "            return BinaryTree(rand_var())  \n",
    "    else:\n",
    "        t = rand_type()\n",
    "        if t == \"O\":\n",
    "            tree = BinaryTree(rand_oper())\n",
    "            tree.set_left_child(generate_tree(depth - 1))\n",
    "            tree.set_right_child(generate_tree(depth - 1))\n",
    "        elif t == \"F\":\n",
    "            tree = BinaryTree(rand_func())\n",
    "            tree.set_left_child(generate_tree(depth - 1))\n",
    "        elif t == \"V\":\n",
    "            tree = BinaryTree(rand_var())\n",
    "        else:\n",
    "            tree = BinaryTree(rand_const())\n",
    "        return tree"
   ]
  },
  {
   "cell_type": "code",
   "execution_count": 12,
   "metadata": {
    "collapsed": true
   },
   "outputs": [],
   "source": [
    "def build_parse_tree(expr):\n",
    "    fplist = expr.split()\n",
    "    pStack = Stack()\n",
    "    \n",
    "    tree = BinaryTree('')\n",
    "    pStack.push(tree)\n",
    "    current_tree = tree\n",
    "    \n",
    "    for i in fplist:\n",
    "        if i == '(':\n",
    "            pass\n",
    "        elif i in variance:\n",
    "            current_tree.set_node_value(i)\n",
    "            if not pStack.isEmpty():\n",
    "                parent = pStack.pop()\n",
    "                current_tree = parent\n",
    "        elif i in name_opers:\n",
    "            current_tree.set_left_child(current_tree)\n",
    "            current_tree.set_node_value(i)\n",
    "            current_tree.insert_right('')\n",
    "            pStack.push(current_tree)\n",
    "            current_tree = current_tree.get_right_child()\n",
    "            pStack.push(current_tree)\n",
    "        elif i in name_functions:\n",
    "            current_tree.set_node_value(i)\n",
    "            current_tree.insert_left('')\n",
    "            pStack.push(current_tree)\n",
    "            current_tree = current_tree.get_left_child()\n",
    "        elif i == ')':\n",
    "            current_tree = pStack.pop()\n",
    "        else:\n",
    "            current_tree.set_node_value(int(i))\n",
    "            if not pStack.isEmpty():\n",
    "                parent = pStack.pop()\n",
    "                current_tree = parent\n",
    "\n",
    "    return tree"
   ]
  },
  {
   "cell_type": "code",
   "execution_count": 13,
   "metadata": {
    "collapsed": true
   },
   "outputs": [],
   "source": [
    "def build_parse_tree(expr):\n",
    "    fplist = expr.split()\n",
    "    pStack = Stack()\n",
    "    \n",
    "    tree = BinaryTree('')\n",
    "    pStack.push(tree)\n",
    "    current_tree = tree\n",
    "    \n",
    "    for i in fplist:\n",
    "        if i == '(':\n",
    "            current_tree.insert_left('')\n",
    "            pStack.push(current_tree)\n",
    "            current_tree = current_tree.get_left_child()\n",
    "        elif i in name_opers:\n",
    "            current_tree.set_node_value(i)\n",
    "            current_tree.insert_right('')\n",
    "            pStack.push(current_tree)\n",
    "            current_tree = current_tree.get_right_child()\n",
    "        elif i in name_functions:\n",
    "            current_tree.set_node_value(i)\n",
    "            current_tree.insert_left('')\n",
    "            pStack.push(current_tree)\n",
    "            current_tree = current_tree.get_left_child()            \n",
    "        elif i == ')':\n",
    "            current_tree = pStack.pop()\n",
    "        elif i in variance:\n",
    "            current_tree.set_node_value(i)\n",
    "            parent = pStack.pop()\n",
    "            current_tree = parent\n",
    "        else:\n",
    "            current_tree.set_node_value(int(i))\n",
    "            parent = pStack.pop()\n",
    "            current_tree = parent\n",
    "    return tree"
   ]
  },
  {
   "cell_type": "code",
   "execution_count": 14,
   "metadata": {
    "collapsed": true
   },
   "outputs": [],
   "source": [
    "def evaluate(tree, x, y):\n",
    "    left_child = tree.get_left_child()\n",
    "    right_child = tree.get_right_child()\n",
    "\n",
    "    if left_child and right_child:\n",
    "        fn = opers[tree.get_node_value()]\n",
    "        return fn(evaluate(left_child, x, y), evaluate(right_child, x, y))\n",
    "    elif left_child:\n",
    "        return functions[tree.get_node_value()](evaluate(left_child, x, y))\n",
    "    else:\n",
    "        num = tree.get_node_value()\n",
    "        if num == 'x':\n",
    "            return x\n",
    "        elif num == 'y':\n",
    "            return y\n",
    "        else:\n",
    "            return num        "
   ]
  }
 ],
 "metadata": {
  "kernelspec": {
   "display_name": "Python 3",
   "language": "python",
   "name": "python3"
  },
  "language_info": {
   "codemirror_mode": {
    "name": "ipython",
    "version": 3
   },
   "file_extension": ".py",
   "mimetype": "text/x-python",
   "name": "python",
   "nbconvert_exporter": "python",
   "pygments_lexer": "ipython3",
   "version": "3.6.1"
  }
 },
 "nbformat": 4,
 "nbformat_minor": 2
}
