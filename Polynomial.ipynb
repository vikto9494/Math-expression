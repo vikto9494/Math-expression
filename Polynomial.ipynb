{
 "cells": [
  {
   "cell_type": "code",
   "execution_count": 40,
   "metadata": {
    "collapsed": true
   },
   "outputs": [],
   "source": [
    "from sympy import *\n",
    "from sympy.abc import x, y\n",
    "import operator\n",
    "import random\n",
    "from collections import deque\n",
    "import math"
   ]
  },
  {
   "cell_type": "code",
   "execution_count": 41,
   "metadata": {
    "collapsed": true
   },
   "outputs": [],
   "source": [
    "operation_type = ['O', 'F', 'V', 'C']\n",
    "name_opers = ['+', '-', '*', '/', '**']\n",
    "variance = ['x', 'y']\n",
    "opers = {'+': operator.add, '-': operator.sub, '*':operator.mul, '/': operator.truediv, '**': operator.pow}\n",
    "name_functions = ['exp', 'ln', 'sqrt', 'sin', 'cos', 'tan', 'acos', 'asin', 'atan']\n",
    "functions = {'sin': sin, 'cos': cos, 'tan': tan, 'acos': acos, 'asin': asin, \n",
    "             'atan': atan, 'exp': exp, 'ln': log, 'sqrt':sqrt}"
   ]
  },
  {
   "cell_type": "code",
   "execution_count": 87,
   "metadata": {
    "collapsed": true
   },
   "outputs": [],
   "source": [
    "def rand_type():\n",
    "    global var_weight\n",
    "    var_weight += 1\n",
    "    weight = [10, 0, var_weight, var_weight]\n",
    "    return random.choices(operation_type, weight)[0]   "
   ]
  },
  {
   "cell_type": "code",
   "execution_count": 88,
   "metadata": {
    "collapsed": true
   },
   "outputs": [],
   "source": [
    "def rand_oper(weights = [40, 20, 30, 0, 0]):\n",
    "    return random.choices(name_opers, weights)[0]    "
   ]
  },
  {
   "cell_type": "code",
   "execution_count": 89,
   "metadata": {
    "collapsed": true
   },
   "outputs": [],
   "source": [
    "def rand_const(min = 1, max = 5):\n",
    "    return str(random.randint(min, max))"
   ]
  },
  {
   "cell_type": "code",
   "execution_count": 90,
   "metadata": {
    "collapsed": true
   },
   "outputs": [],
   "source": [
    "def rand_var(weights = [70, 0]):\n",
    "    return random.choices(variance, weights)[0] "
   ]
  },
  {
   "cell_type": "code",
   "execution_count": 91,
   "metadata": {
    "collapsed": true
   },
   "outputs": [],
   "source": [
    "def rand_func(weights = [10, 20, 20, 5, 5, 5, 1, 1, 1]):\n",
    "    return random.choices(name_functions, weights)[0]    "
   ]
  },
  {
   "cell_type": "code",
   "execution_count": 110,
   "metadata": {
    "collapsed": true
   },
   "outputs": [],
   "source": [
    "class BinaryTree():\n",
    "    def __init__(self, value):\n",
    "        self.parent = None\n",
    "        self.left = None\n",
    "        self.right = None\n",
    "        self.value = value\n",
    "        \n",
    "    def __str__(self):\n",
    "        return str(self.value)\n",
    "        \n",
    "    def get_left_child(self):\n",
    "        if self.left:\n",
    "            return self.left\n",
    "        \n",
    "    def get_right_child(self):\n",
    "        if self.right:\n",
    "            return self.right\n",
    "        \n",
    "    def set_left_child(self, tree):\n",
    "        if self.left == None:\n",
    "            self.left = tree\n",
    "        else:\n",
    "            tree.left = self.left\n",
    "            self.left = tree\n",
    "        \n",
    "    def set_right_child(self, tree):\n",
    "        if self.right == None:\n",
    "            self.right = tree\n",
    "        else:\n",
    "            tree.right = self.right\n",
    "            self.right = tree\n",
    "        \n",
    "    def set_node_value(self, value):\n",
    "        self.value = value\n",
    "        \n",
    "    def get_node_value(self):\n",
    "        return self.value\n",
    "\n",
    "    def insert_right(self, new_node):\n",
    "        if self.right == None:\n",
    "            self.right = BinaryTree(new_node)\n",
    "        else:\n",
    "            self.right.value = new_node\n",
    "\n",
    "    def insert_left(self, new_node):\n",
    "        if self.left == None:\n",
    "            self.left = BinaryTree(new_node)\n",
    "        else:\n",
    "            self.left.value = new_node\n",
    "            \n",
    "    def print_expression(self):\n",
    "        if self.value in name_opers:\n",
    "            print('(', end = '')\n",
    "            self.left.print_expression()\n",
    "            print(self.value, end = '')\n",
    "            self.right.print_expression()\n",
    "            print(')', end = '')\n",
    "        elif self.value in name_functions:\n",
    "            print(self.value + '(', end = '')\n",
    "            self.left.print_expression()\n",
    "            print(')', end = '')\n",
    "        elif self.value in variance:\n",
    "            print(self.value, end = '')\n",
    "        elif self.value in ['1', '2', '3', '4', '5']:\n",
    "            print(self.value, end = '')\n",
    "            \n",
    "    def print_tree(self, depth):\n",
    "        current_level = [self]\n",
    "        a = ' ' * (2 ** depth)\n",
    "        while depth:\n",
    "            a = a[:len(a)//2]\n",
    "            next_level = list()\n",
    "            for n in current_level:\n",
    "                print(a + n.value, end = '') if n != None else print(a, end = '')\n",
    "                if n == None or n.left == None:\n",
    "                    next_level.append(None)\n",
    "                else:\n",
    "                    next_level.append(n.left)\n",
    "                if n == None or n.right == None:\n",
    "                    next_level.append(None)\n",
    "                else:\n",
    "                    next_level.append(n.right)\n",
    "                current_level = next_level\n",
    "            depth -= 1\n",
    "            print(\"\\n\")\n",
    "            \n",
    "    def check_poly(self):\n",
    "        left_flag = True\n",
    "        right_flag = True\n",
    "        center_flag = True\n",
    "        \n",
    "        if (self.left != None):\n",
    "            left_flag = self.left.check_poly()\n",
    "        if (self.right != None):\n",
    "            right_flag = self.right.check_poly()\n",
    "        if self.value not in ['x', '+', '-', '*', '1', '2', '3', '4', '5']:\n",
    "            center_flag = False\n",
    "            \n",
    "        return left_flag & right_flag & center_flag"
   ]
  },
  {
   "cell_type": "code",
   "execution_count": 93,
   "metadata": {
    "collapsed": true
   },
   "outputs": [],
   "source": [
    "def generate_tree(depth):\n",
    "    if depth == 1:\n",
    "        if random.randint(0, 1):\n",
    "            return BinaryTree(rand_const()) \n",
    "        else:\n",
    "            return BinaryTree(rand_var())  \n",
    "    else:\n",
    "        t = rand_type()\n",
    "        if t == \"O\":\n",
    "            tree = BinaryTree(rand_oper())\n",
    "            tree.set_left_child(generate_tree(depth - 1))\n",
    "            tree.set_right_child(generate_tree(depth - 1))\n",
    "        elif t == \"F\":\n",
    "            tree = BinaryTree(rand_func())\n",
    "            tree.set_left_child(generate_tree(depth - 1))\n",
    "        elif t == \"V\":\n",
    "            tree = BinaryTree(rand_var())\n",
    "        else:\n",
    "            tree = BinaryTree(rand_const())\n",
    "        return tree"
   ]
  },
  {
   "cell_type": "code",
   "execution_count": 49,
   "metadata": {
    "collapsed": true
   },
   "outputs": [],
   "source": [
    "def evaluate(tree):\n",
    "    left_child = tree.get_left_child()\n",
    "    right_child = tree.get_right_child()\n",
    "\n",
    "    if left_child and right_child:\n",
    "        fn = opers[tree.get_node_value()]\n",
    "        return fn(evaluate(left_child), evaluate(right_child))\n",
    "    elif left_child:\n",
    "        return functions[tree.get_node_value()](evaluate(left_child))\n",
    "    else:\n",
    "        num = tree.get_node_value()\n",
    "        if num == 'x' or num == 'y':\n",
    "            return sp.symbols(num)\n",
    "        else:\n",
    "            return int(num)"
   ]
  },
  {
   "cell_type": "code",
   "execution_count": 120,
   "metadata": {},
   "outputs": [
    {
     "name": "stdout",
     "output_type": "stream",
     "text": [
      "                                                                +\n",
      "\n",
      "                                +                                x\n",
      "\n",
      "                *                5                                \n",
      "\n",
      "        2        -                                                \n",
      "\n",
      "            *    +                                                \n",
      "\n",
      "          *  3  *  1                                                \n",
      "\n",
      "         3 x   x x                                                  \n",
      "\n"
     ]
    }
   ],
   "source": [
    "var_weight = 0\n",
    "gt = generate_tree(7)\n",
    "gt.print_tree(7)"
   ]
  },
  {
   "cell_type": "code",
   "execution_count": 135,
   "metadata": {},
   "outputs": [
    {
     "data": {
      "text/plain": [
       "True"
      ]
     },
     "execution_count": 135,
     "metadata": {},
     "output_type": "execute_result"
    }
   ],
   "source": [
    "gt.check_poly()"
   ]
  },
  {
   "cell_type": "code",
   "execution_count": 122,
   "metadata": {},
   "outputs": [
    {
     "name": "stdout",
     "output_type": "stream",
     "text": [
      "(((2*(((3*x)*3)-((x*x)+1)))+5)+x)"
     ]
    }
   ],
   "source": [
    "gt.print_expression()"
   ]
  },
  {
   "cell_type": "code",
   "execution_count": 121,
   "metadata": {
    "collapsed": true
   },
   "outputs": [],
   "source": [
    "expr = evaluate(gt)"
   ]
  },
  {
   "cell_type": "code",
   "execution_count": 123,
   "metadata": {},
   "outputs": [
    {
     "data": {
      "text/plain": [
       "-2*x**2 + 19*x + 3"
      ]
     },
     "execution_count": 123,
     "metadata": {},
     "output_type": "execute_result"
    }
   ],
   "source": [
    "expr"
   ]
  },
  {
   "cell_type": "code",
   "execution_count": 126,
   "metadata": {},
   "outputs": [],
   "source": [
    "roots = real_roots(expr)"
   ]
  },
  {
   "cell_type": "code",
   "execution_count": 133,
   "metadata": {},
   "outputs": [
    {
     "data": {
      "text/plain": [
       "[-sqrt(385)/4 + 19/4, 19/4 + sqrt(385)/4]"
      ]
     },
     "execution_count": 133,
     "metadata": {},
     "output_type": "execute_result"
    }
   ],
   "source": [
    "roots"
   ]
  },
  {
   "cell_type": "code",
   "execution_count": 128,
   "metadata": {
    "collapsed": true
   },
   "outputs": [],
   "source": [
    "eps = 1e-4"
   ]
  },
  {
   "cell_type": "code",
   "execution_count": 134,
   "metadata": {},
   "outputs": [
    {
     "name": "stdout",
     "output_type": "stream",
     "text": [
      "-0.00196216168702673\n",
      "0.00196212168703384\n",
      "-0.00196216168703384\n"
     ]
    }
   ],
   "source": [
    "for r in roots:\n",
    "    print (N(expr.subs(x, r - eps)))\n",
    "print (N(expr.subs(x, roots[-1] + eps)))"
   ]
  }
 ],
 "metadata": {
  "kernelspec": {
   "display_name": "Python 3",
   "language": "python",
   "name": "python3"
  },
  "language_info": {
   "codemirror_mode": {
    "name": "ipython",
    "version": 3
   },
   "file_extension": ".py",
   "mimetype": "text/x-python",
   "name": "python",
   "nbconvert_exporter": "python",
   "pygments_lexer": "ipython3",
   "version": "3.6.1"
  }
 },
 "nbformat": 4,
 "nbformat_minor": 2
}
