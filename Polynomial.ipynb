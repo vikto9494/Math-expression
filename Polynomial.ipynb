{
 "cells": [
  {
   "cell_type": "code",
   "execution_count": 1,
   "metadata": {
    "collapsed": true
   },
   "outputs": [],
   "source": [
    "from sympy import *\n",
    "from sympy.abc import x, y\n",
    "import operator\n",
    "import random\n",
    "from collections import deque\n",
    "import math"
   ]
  },
  {
   "cell_type": "code",
   "execution_count": 2,
   "metadata": {},
   "outputs": [],
   "source": [
    "operation_type = ['O', 'F', 'V', 'C']\n",
    "name_opers = ['+', '-', '*', '/', '**']\n",
    "variance = ['x', 'y']\n",
    "opers = {'+': operator.add, '-': operator.sub, '*':operator.mul, '/': operator.truediv, '**': operator.pow}\n",
    "name_functions = ['exp', 'ln', 'sqrt', 'sin', 'cos', 'tan', 'acos', 'asin', 'atan']\n",
    "functions = {'sin': sin, 'cos': cos, 'tan': tan, 'acos': acos, 'asin': asin, \n",
    "             'atan': atan, 'exp': exp, 'ln': log, 'sqrt':sqrt}"
   ]
  },
  {
   "cell_type": "code",
   "execution_count": 3,
   "metadata": {
    "collapsed": true
   },
   "outputs": [],
   "source": [
    "def rand_type():\n",
    "    global var_weight\n",
    "    var_weight += 1\n",
    "    weight = [10, 0, var_weight, var_weight]\n",
    "    return random.choices(operation_type, weight)[0]   "
   ]
  },
  {
   "cell_type": "code",
   "execution_count": 4,
   "metadata": {
    "collapsed": true
   },
   "outputs": [],
   "source": [
    "def rand_oper(weights = [40, 20, 30, 0, 0]):\n",
    "    return random.choices(name_opers, weights)[0]    "
   ]
  },
  {
   "cell_type": "code",
   "execution_count": 5,
   "metadata": {
    "collapsed": true
   },
   "outputs": [],
   "source": [
    "def rand_const(min = 1, max = 5):\n",
    "    return str(random.randint(min, max))"
   ]
  },
  {
   "cell_type": "code",
   "execution_count": 6,
   "metadata": {
    "collapsed": true
   },
   "outputs": [],
   "source": [
    "def rand_var(weights = [70, 0]):\n",
    "    return random.choices(variance, weights)[0] "
   ]
  },
  {
   "cell_type": "code",
   "execution_count": 7,
   "metadata": {
    "collapsed": true
   },
   "outputs": [],
   "source": [
    "def rand_func(weights = [10, 20, 20, 5, 5, 5, 1, 1, 1]):\n",
    "    return random.choices(name_functions, weights)[0]    "
   ]
  },
  {
   "cell_type": "code",
   "execution_count": 17,
   "metadata": {
    "collapsed": true
   },
   "outputs": [],
   "source": [
    "class BinaryTree():\n",
    "    def __init__(self, value):\n",
    "        self.parent = None\n",
    "        self.left = None\n",
    "        self.right = None\n",
    "        self.value = value\n",
    "        self.domain = S.Reals\n",
    "        \n",
    "    def __str__(self):\n",
    "        return str(self.value)\n",
    "        \n",
    "    def get_left_child(self):\n",
    "        if self.left:\n",
    "            return self.left\n",
    "        \n",
    "    def get_right_child(self):\n",
    "        if self.right:\n",
    "            return self.right\n",
    "        \n",
    "    def set_left_child(self, tree):\n",
    "        if self.left == None:\n",
    "            self.left = tree\n",
    "        else:\n",
    "            tree.left = self.left\n",
    "            self.left = tree\n",
    "        \n",
    "    def set_right_child(self, tree):\n",
    "        if self.right == None:\n",
    "            self.right = tree\n",
    "        else:\n",
    "            tree.right = self.right\n",
    "            self.right = tree\n",
    "        \n",
    "    def set_node_value(self, value):\n",
    "        self.value = value\n",
    "        \n",
    "    def get_node_value(self):\n",
    "        return self.value\n",
    "\n",
    "    def insert_right(self, new_node):\n",
    "        if self.right == None:\n",
    "            self.right = BinaryTree(new_node)\n",
    "        else:\n",
    "            self.right.value = new_node\n",
    "\n",
    "    def insert_left(self, new_node):\n",
    "        if self.left == None:\n",
    "            self.left = BinaryTree(new_node)\n",
    "        else:\n",
    "            self.left.value = new_node\n",
    "            \n",
    "    def print_expression(self):\n",
    "        if self.value in name_opers:\n",
    "            print('(', end = '')\n",
    "            self.left.print_expression()\n",
    "            print(self.value, end = '')\n",
    "            self.right.print_expression()\n",
    "            print(')', end = '')\n",
    "        elif self.value in name_functions:\n",
    "            print(self.value + '(', end = '')\n",
    "            self.left.print_expression()\n",
    "            print(')', end = '')\n",
    "        elif self.value in variance:\n",
    "            print(self.value, end = '')\n",
    "        elif isinstance(self.value, int):\n",
    "            print(self.value, end = '')\n",
    "            \n",
    "    def print_tree(self, depth):\n",
    "        current_level = [self]\n",
    "        a = ' ' * (2 ** depth)\n",
    "        while depth:\n",
    "            a = a[:len(a)//2]\n",
    "            next_level = list()\n",
    "            for n in current_level:\n",
    "                print(a + str(n.value), end = '') if n != None else print(a, end = '')\n",
    "                if n == None or n.left == None:\n",
    "                    next_level.append(None)\n",
    "                else:\n",
    "                    next_level.append(n.left)\n",
    "                if n == None or n.right == None:\n",
    "                    next_level.append(None)\n",
    "                else:\n",
    "                    next_level.append(n.right)\n",
    "                current_level = next_level\n",
    "            depth -= 1\n",
    "            print(\"\\n\")\n",
    "            \n",
    "    def check_poly(self):\n",
    "        left_flag = True\n",
    "        right_flag = True\n",
    "        center_flag = True\n",
    "        \n",
    "        if (self.left != None):\n",
    "            left_flag = self.left.check_poly()\n",
    "        if (self.right != None):\n",
    "            right_flag = self.right.check_poly()\n",
    "        if self.value not in ['x', '+', '-', '*'] and not isinstance(self.value, int):\n",
    "            print(self.value)\n",
    "            center_flag = False\n",
    "            \n",
    "        return left_flag & right_flag & center_flag"
   ]
  },
  {
   "cell_type": "code",
   "execution_count": 9,
   "metadata": {
    "collapsed": true
   },
   "outputs": [],
   "source": [
    "def generate_tree(depth):\n",
    "    if depth == 1:\n",
    "        if random.randint(0, 1):\n",
    "            return BinaryTree(rand_const()) \n",
    "        else:\n",
    "            return BinaryTree(rand_var())  \n",
    "    else:\n",
    "        t = rand_type()\n",
    "        if t == \"O\":\n",
    "            tree = BinaryTree(rand_oper())\n",
    "            tree.set_left_child(generate_tree(depth - 1))\n",
    "            tree.set_right_child(generate_tree(depth - 1))\n",
    "        elif t == \"F\":\n",
    "            tree = BinaryTree(rand_func())\n",
    "            tree.set_left_child(generate_tree(depth - 1))\n",
    "        elif t == \"V\":\n",
    "            tree = BinaryTree(rand_var())\n",
    "        else:\n",
    "            tree = BinaryTree(int(rand_const()))\n",
    "        return tree"
   ]
  },
  {
   "cell_type": "code",
   "execution_count": 10,
   "metadata": {
    "collapsed": true
   },
   "outputs": [],
   "source": [
    "def evaluate(tree):\n",
    "    left_child = tree.get_left_child()\n",
    "    right_child = tree.get_right_child()\n",
    "\n",
    "    if left_child and right_child:\n",
    "        fn = opers[tree.get_node_value()]\n",
    "        return fn(evaluate(left_child), evaluate(right_child))\n",
    "    elif left_child:\n",
    "        return functions[tree.get_node_value()](evaluate(left_child))\n",
    "    else:\n",
    "        num = tree.get_node_value()\n",
    "        if num == 'x' or num == 'y':\n",
    "            return symbols(num)\n",
    "        else:\n",
    "            return num"
   ]
  },
  {
   "cell_type": "code",
   "execution_count": 19,
   "metadata": {},
   "outputs": [
    {
     "name": "stdout",
     "output_type": "stream",
     "text": [
      "                                                                +\n",
      "\n",
      "                                +                                1\n",
      "\n",
      "                x                -                                \n",
      "\n",
      "                        +        -                                \n",
      "\n",
      "                    +    x    x    x                                \n",
      "\n",
      "                  x  x                                            \n",
      "\n",
      "                                                                \n",
      "\n"
     ]
    }
   ],
   "source": [
    "var_weight = 0\n",
    "gt = generate_tree(7)\n",
    "gt.print_tree(7)"
   ]
  },
  {
   "cell_type": "code",
   "execution_count": 20,
   "metadata": {},
   "outputs": [
    {
     "data": {
      "text/plain": [
       "True"
      ]
     },
     "execution_count": 20,
     "metadata": {},
     "output_type": "execute_result"
    }
   ],
   "source": [
    "gt.check_poly()"
   ]
  },
  {
   "cell_type": "code",
   "execution_count": 156,
   "metadata": {},
   "outputs": [],
   "source": [
    "expr1 = x - 3\n",
    "expr2 = x ** 2 - 2"
   ]
  },
  {
   "cell_type": "code",
   "execution_count": 163,
   "metadata": {},
   "outputs": [],
   "source": [
    "d1 = get_domain(expr1)\n",
    "d2 = get_domain(expr2)\n",
    "d3 = get\n",
    "d = Intersection(d1, d2)"
   ]
  },
  {
   "cell_type": "code",
   "execution_count": 191,
   "metadata": {},
   "outputs": [
    {
     "data": {
      "text/plain": [
       "(3.0, oo)"
      ]
     },
     "execution_count": 191,
     "metadata": {},
     "output_type": "execute_result"
    }
   ],
   "source": [
    "d1"
   ]
  },
  {
   "cell_type": "code",
   "execution_count": 192,
   "metadata": {},
   "outputs": [
    {
     "data": {
      "text/plain": [
       "(-oo, -1.4142135623731) U (1.4142135623731, oo)"
      ]
     },
     "execution_count": 192,
     "metadata": {},
     "output_type": "execute_result"
    }
   ],
   "source": [
    "d2"
   ]
  },
  {
   "cell_type": "code",
   "execution_count": 193,
   "metadata": {},
   "outputs": [
    {
     "data": {
      "text/plain": [
       "(3.0, oo)"
      ]
     },
     "execution_count": 193,
     "metadata": {},
     "output_type": "execute_result"
    }
   ],
   "source": [
    "d"
   ]
  },
  {
   "cell_type": "code",
   "execution_count": 189,
   "metadata": {
    "collapsed": true
   },
   "outputs": [],
   "source": [
    "expr = ln(sqrt(x - 3) + sqrt(x ** 2 - 2))"
   ]
  },
  {
   "cell_type": "code",
   "execution_count": 190,
   "metadata": {},
   "outputs": [
    {
     "data": {
      "text/plain": [
       "ConditionSet(x, Eq(log(sqrt(x - 3) + sqrt(x**2 - 2)), 0), (3.0, oo))"
      ]
     },
     "execution_count": 190,
     "metadata": {},
     "output_type": "execute_result"
    }
   ],
   "source": [
    "solveset(expr, x, domain = d)"
   ]
  },
  {
   "cell_type": "code",
   "execution_count": 155,
   "metadata": {},
   "outputs": [],
   "source": [
    "def get_domain(expr):\n",
    "    solve = list(solveset(expr, x, domain = S.Reals).args)\n",
    "    \n",
    "\n",
    "    if not solve:\n",
    "        if isinstance(expr, int):\n",
    "            res = expr\n",
    "        else:\n",
    "            res = N(expr.subs(x, 0))\n",
    "            \n",
    "        if res > 0:\n",
    "            return S.Reals\n",
    "        else:\n",
    "            return S.EmptySet\n",
    "    elif solve[0] == -oo and solve[1] == oo:\n",
    "        return S.EmptySet\n",
    "    else:\n",
    "        solve = [N(_) for _ in solve]\n",
    "        solve.sort()\n",
    "        domain = S.EmptySet\n",
    "        eps = 10e-5\n",
    "        n = len(solve)\n",
    "\n",
    "        for i in range(0, n):\n",
    "            res = N(expr.subs(x, solve[i] - eps))\n",
    "#             print(i - eps, \": \", res)\n",
    "            if (res > 0):\n",
    "                if (i == 0):\n",
    "                    domain = Union(domain, Interval.open(-oo, solve[i]))\n",
    "                else:\n",
    "                    domain = Union(domain, Interval.open(solve[i - 1], solve[i]))\n",
    "\n",
    "        if ( N(expr.subs(x, solve[n - 1] + eps)) > 0):\n",
    "            domain = Union(domain, Interval.open(solve[n - 1], oo))\n",
    "        return domain"
   ]
  },
  {
   "cell_type": "code",
   "execution_count": null,
   "metadata": {
    "collapsed": true
   },
   "outputs": [],
   "source": []
  }
 ],
 "metadata": {
  "kernelspec": {
   "display_name": "Python 3",
   "language": "python",
   "name": "python3"
  },
  "language_info": {
   "codemirror_mode": {
    "name": "ipython",
    "version": 3
   },
   "file_extension": ".py",
   "mimetype": "text/x-python",
   "name": "python",
   "nbconvert_exporter": "python",
   "pygments_lexer": "ipython3",
   "version": "3.6.1"
  }
 },
 "nbformat": 4,
 "nbformat_minor": 2
}
